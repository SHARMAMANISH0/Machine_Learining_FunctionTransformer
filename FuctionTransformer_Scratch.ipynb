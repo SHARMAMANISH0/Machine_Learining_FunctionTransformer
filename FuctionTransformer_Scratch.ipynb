{
  "nbformat": 4,
  "nbformat_minor": 0,
  "metadata": {
    "colab": {
      "provenance": []
    },
    "kernelspec": {
      "name": "python3",
      "display_name": "Python 3"
    },
    "language_info": {
      "name": "python"
    }
  },
  "cells": [
    {
      "cell_type": "code",
      "execution_count": null,
      "metadata": {
        "id": "GYy4lVsKQG3D"
      },
      "outputs": [],
      "source": [
        "\n",
        "#  The Fuction Transforam is a tool scikit-learn a populer python libary\n",
        "#  for machine learning that allows you to apply a specified to the input da\n",
        "# the Fuction Transform can be usful for performing custom\n",
        "# transforaam of input data in a machine learnin pipelne"
      ]
    },
    {
      "cell_type": "code",
      "source": [
        "from sklearn.preprocessing import FunctionTransformer\n",
        "import numpy as np\n",
        "\n",
        "# create a dataset\n",
        "X = np.array([[1, 2], [3, 4]])\n",
        "\n",
        "# define the transformation function\n",
        "log_transform = FunctionTransformer(np.log1p)\n",
        "\n",
        "# apply the transformation to the dataset\n",
        "X_transformed = log_transform.transform(X)\n",
        "\n",
        "# view the transformed data\n",
        "print(X_transformed)"
      ],
      "metadata": {
        "id": "6N8hQatrRpdf",
        "colab": {
          "base_uri": "https://localhost:8080/"
        },
        "outputId": "ed8892d6-9164-4ec2-faa0-9e9549fd2392"
      },
      "execution_count": null,
      "outputs": [
        {
          "output_type": "stream",
          "name": "stdout",
          "text": [
            "[[0.69314718 1.09861229]\n",
            " [1.38629436 1.60943791]]\n"
          ]
        }
      ]
    },
    {
      "cell_type": "code",
      "source": [
        "# Practical usecases\n",
        "# 1. Custom Feature Engineering\n",
        "\n",
        "from sklearn.preprocessing import FunctionTransformer\n",
        "import numpy as np\n",
        "# create a dataset\n",
        "x = np.array([[1,2],[3,4]])\n",
        "\n",
        "#define a custom feature engineering fuction\n",
        "def my_feature_engineer(x):\n",
        "  return np.hstack((x,x**2))\n",
        "# create the FuctionTransformer to apply the custo fuction\n",
        "custom_transformer = FunctionTransformer(my_feature_engineer)\n",
        "\n",
        "# apply the transformer to the input data\n",
        "x_transformed = custom_transformer.transform(x)\n",
        "\n",
        "# view the transformed\n",
        "print(x_transformed)"
      ],
      "metadata": {
        "colab": {
          "base_uri": "https://localhost:8080/"
        },
        "id": "p4am7i1NS4qP",
        "outputId": "04289578-80b4-41d5-96db-3223d5c4b0b3"
      },
      "execution_count": 7,
      "outputs": [
        {
          "output_type": "stream",
          "name": "stdout",
          "text": [
            "[[ 1  2  1  4]\n",
            " [ 3  4  9 16]]\n"
          ]
        }
      ]
    },
    {
      "cell_type": "code",
      "source": [
        "  # 2. Scaling And Normalization\n",
        "\n",
        "\n",
        "from sklearn.preprocessing import FunctionTransformer\n",
        "import numpy as np\n",
        "\n",
        "x =np.array([[1,2],[3,4]])\n",
        "\n",
        "def my_scaling(x):\n",
        "     return x/np.max(x)\n",
        "custom_transformer =FunctionTransformer(my_scaling)\n",
        "x_transformed = custom_transformer.transform(x)\n",
        "print(x_transformed)\n"
      ],
      "metadata": {
        "colab": {
          "base_uri": "https://localhost:8080/"
        },
        "id": "fOUxZJUmTsWM",
        "outputId": "f594538f-1c74-467b-cb4a-7a881491bfc5"
      },
      "execution_count": 8,
      "outputs": [
        {
          "output_type": "stream",
          "name": "stdout",
          "text": [
            "[[0.25 0.5 ]\n",
            " [0.75 1.  ]]\n"
          ]
        }
      ]
    },
    {
      "cell_type": "code",
      "source": [
        "# 3. Data Cleaning\n",
        "\n",
        "from sklearn.preprocessing import FunctionTransformer\n",
        "import numpy as np\n",
        "\n",
        "# create a dataset with missing values\n",
        "X = np.array([[1,2],[3,np.nan]])\n",
        "\n",
        "# define a custom cleaning fuction\n",
        "def my_cleaning(X):\n",
        "    X[np.isnan(X)]= 0\n",
        "    return X\n",
        "\n",
        "# create a FuctionTransformer to apply the custom fuction\n",
        "custom_transformer = FunctionTransformer(my_cleaning)\n",
        "\n",
        "# apply the transformer to the input data\n",
        "X_transformed = custom_transformer.transform(X)\n",
        "\n",
        "# view the transformed data\n",
        "print(X_transformed)\n",
        "\n",
        "\n"
      ],
      "metadata": {
        "id": "HmOat8WUbY_6",
        "colab": {
          "base_uri": "https://localhost:8080/"
        },
        "outputId": "bebc2219-7f07-467f-9541-9eb07108549c"
      },
      "execution_count": 11,
      "outputs": [
        {
          "output_type": "stream",
          "name": "stdout",
          "text": [
            "[[1. 2.]\n",
            " [3. 0.]]\n"
          ]
        }
      ]
    },
    {
      "cell_type": "code",
      "source": [],
      "metadata": {
        "id": "Ok-nIPoxqD1C"
      },
      "execution_count": 11,
      "outputs": []
    },
    {
      "cell_type": "code",
      "source": [],
      "metadata": {
        "id": "jxH-l1fGq8Ga"
      },
      "execution_count": null,
      "outputs": []
    }
  ]
}